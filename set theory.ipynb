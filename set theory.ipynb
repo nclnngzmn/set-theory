{
 "cells": [
  {
   "cell_type": "markdown",
   "metadata": {},
   "source": [
    "# Set Theory"
   ]
  },
  {
   "cell_type": "markdown",
   "metadata": {},
   "source": [
    "This code activity will try to guide you in applying the concepts, methods, and rules of Set Theory through code. We will go through with the data types in which Set Theory can be applied, how to write them in equation form im $\\LaTeX$, and then we will try to look at a practical example through a user's requirement."
   ]
  },
  {
   "cell_type": "markdown",
   "metadata": {},
   "source": [
    "### Lists"
   ]
  },
  {
   "cell_type": "markdown",
   "metadata": {},
   "source": [
    "In Python,  the most common iterable collection are lists. In lists, elements are ordered and chageable. Lists are denoted by enclosing objects with square brackets $[ ... ]$. Lists can be accessed through their indices, negative indexing is permitted."
   ]
  },
  {
   "cell_type": "code",
   "execution_count": 1,
   "metadata": {},
   "outputs": [],
   "source": [
    "## COLLECTIONS - data types in python/objects that can store diff objects inside it\n",
    "## LIST - iterable collections/ordered(elements inside has dpecific index)/changeable\n",
    "\n",
    "### Declaration\n",
    "employees = ['John', 'Alex', 'Winston', 'Bob', 'Golbi'] ## Best practice when making a list of objects, list variable names should be in plural form "
   ]
  },
  {
   "cell_type": "code",
   "execution_count": 2,
   "metadata": {},
   "outputs": [
    {
     "data": {
      "text/plain": [
       "'Alex'"
      ]
     },
     "execution_count": 2,
     "metadata": {},
     "output_type": "execute_result"
    }
   ],
   "source": [
    "### Single Access\n",
    "employees[1]\n",
    "## index: [0,1,2,3,4,5]\n",
    "## [1]--Alex \n",
    "## in indexing list in python: (negative integer)\n",
    "    ## [-1]--starting from last element of list\n",
    "    ## [-2]--second to the last item in the list"
   ]
  },
  {
   "cell_type": "code",
   "execution_count": 3,
   "metadata": {},
   "outputs": [
    {
     "data": {
      "text/plain": [
       "['John', 'Alex', 'Winston']"
      ]
     },
     "execution_count": 3,
     "metadata": {},
     "output_type": "execute_result"
    }
   ],
   "source": [
    "### Multiple Access (subset of list)\n",
    "## splicing of list to get subset\n",
    "employees[0:3:1] ## : -- colon; a range\n",
    "## example:\n",
    "    ## employees[0:2]               ## 0--default\n",
    "    ## OUTPUT: from 'Jhon' until b4 'Winston'\n",
    "                ## ['Jhon', 'Alex']\n",
    "## [starting point of the index(san maguumpisa) : index position : steps in accessing the list/increment(optional)]\n",
    "## example:\n",
    "    ## employees[0:3:2]              ## 2--2nd in index position is skipped\n",
    "    ##OUTPUT: ['John', 'Winston']"
   ]
  },
  {
   "cell_type": "code",
   "execution_count": 5,
   "metadata": {},
   "outputs": [
    {
     "name": "stdout",
     "output_type": "stream",
     "text": [
      "ANYONGSAYOWH WAZZUP!! John\n",
      "ANYONGSAYOWH WAZZUP!! Alex\n",
      "ANYONGSAYOWH WAZZUP!! Winston\n",
      "ANYONGSAYOWH WAZZUP!! Bob\n",
      "ANYONGSAYOWH WAZZUP!! Golbi\n"
     ]
    }
   ],
   "source": [
    "## WAY NO.1\n",
    "### Multiple Access via Loops\n",
    "## FOR PRINTING VALUE OF EACH EMPLOYEE PER LINE\n",
    "## To make coding a bit more intuitive, we use the singular form of the list variable name to denote its elements.\n",
    "for employee in employees: \n",
    "    print(\"ANYONGSAYOWH WAZZUP!!\",employee)"
   ]
  },
  {
   "cell_type": "code",
   "execution_count": 6,
   "metadata": {},
   "outputs": [
    {
     "name": "stdout",
     "output_type": "stream",
     "text": [
      "John\n",
      "Winston\n",
      "Golbi\n"
     ]
    }
   ],
   "source": [
    "## WAY NO.2\n",
    "### Multiple Access via Loops\n",
    "## You could also use indices for iterations.\n",
    "for i in range(len(employees)):  ## RANGE IS 0-4\n",
    "    if(i%2 == 0): ##EMPLOYEE IN EVEN NUMBER\n",
    "        print(employees[i])"
   ]
  },
  {
   "cell_type": "code",
   "execution_count": 8,
   "metadata": {},
   "outputs": [
    {
     "name": "stdout",
     "output_type": "stream",
     "text": [
      "['John', 'Alex', 'Winston', 'John', 'Jimmy']\n"
     ]
    }
   ],
   "source": [
    "### Modifying Elements\n",
    "## TO MODIFY: ACCESS THE ELEMENT\n",
    "employees[3] = 'John'         ## exchanging 'Bob' to 'Jhon'/ overwriting; 'Bob' - 4th index\n",
    "employees[-1] = 'Jimmy'       ## changing 'Golbi' to 'Jimmy'\n",
    "print(employees) "
   ]
  },
  {
   "cell_type": "code",
   "execution_count": 9,
   "metadata": {},
   "outputs": [
    {
     "name": "stdout",
     "output_type": "stream",
     "text": [
      "['John', 'Alex', 'Winston', 'John', 'Jimmy', 'Dorothy']\n"
     ]
    }
   ],
   "source": [
    "### Adding Elements\n",
    "#employees.append(\"Dorothy\") ## adding 'Dorothy' at the end of the list\n",
    "#print(employees) \n",
    "employees.insert(2, \"Ozai\") ## .insert(index position san lalagay, 'ano bet idagdag')\n",
    "print(employees) "
   ]
  },
  {
   "cell_type": "code",
   "execution_count": null,
   "metadata": {},
   "outputs": [],
   "source": [
    "### Removing Elements\n",
    "employees.pop() ## .pop()--remove last employee\n",
    "employees.remove(\"Ozai\") ## .remove--removing employees specifically\n",
    "del employees[-1] ## del -- deletes employee at specified index position\n",
    "employees.clear() ## .clear() -- deletes everything in the list"
   ]
  },
  {
   "cell_type": "markdown",
   "metadata": {},
   "source": [
    "### Tuples"
   ]
  },
  {
   "cell_type": "markdown",
   "metadata": {},
   "source": [
    "Tuples are another collection data type in Python. There are several key differences between lists and tuples:\n",
    "- Tuples are ordered collections, so order cannot be rearranged or modified.\n",
    "- Since tuples are ordered collections $(a, b) \\neq (b, a)$\n",
    "- They are declared and denoted using parentheses $( ...)$"
   ]
  },
  {
   "cell_type": "code",
   "execution_count": 10,
   "metadata": {},
   "outputs": [],
   "source": [
    "### Declaration\n",
    "## tuples is in () ; list is in []\n",
    "            ## (x value, y coordinate, chanells(how many rgb))\n",
    "pixel1_colors = (255, 0 , 0)  ## In image processing, this is called a tuple consisting of channels. \n",
    "##It is structured as (Red, Green, Blue) such that the values in each channe; ranges from 0 - 255 \n",
    "\n",
    "pixel2_colors = (64, 128, 111)"
   ]
  },
  {
   "cell_type": "code",
   "execution_count": 12,
   "metadata": {},
   "outputs": [
    {
     "data": {
      "text/plain": [
       "255"
      ]
     },
     "execution_count": 12,
     "metadata": {},
     "output_type": "execute_result"
    }
   ],
   "source": [
    "### Single Access\n",
    "red = pixel1_colors[0]\n",
    "red ##OUTPUT: VALUE OF RED = 255"
   ]
  },
  {
   "cell_type": "code",
   "execution_count": null,
   "metadata": {},
   "outputs": [],
   "source": [
    "## MODIFYING PIXEL COLORS\n",
    "pixel1_colors[2] = 128 ## changing blue to 128\n",
    "## OUTPUT; ERROR--Tuples san't be modified"
   ]
  },
  {
   "cell_type": "code",
   "execution_count": 14,
   "metadata": {},
   "outputs": [
    {
     "data": {
      "text/plain": [
       "(64, 128)"
      ]
     },
     "execution_count": 14,
     "metadata": {},
     "output_type": "execute_result"
    }
   ],
   "source": [
    "### Multiple Access\n",
    "## can use same technique from list\n",
    "pixel2_colors[0:2:1] ## will orint r and g colors"
   ]
  },
  {
   "cell_type": "code",
   "execution_count": 16,
   "metadata": {},
   "outputs": [
    {
     "name": "stdout",
     "output_type": "stream",
     "text": [
      "64\n",
      "128\n",
      "111\n"
     ]
    }
   ],
   "source": [
    "### Multiple Access via Loops\n",
    "## acessing all colors in the tuple\n",
    "\n",
    "for color in pixel2_colors: ## can use range as well\n",
    "    print(color)"
   ]
  },
  {
   "cell_type": "code",
   "execution_count": 21,
   "metadata": {},
   "outputs": [
    {
     "name": "stdout",
     "output_type": "stream",
     "text": [
      "Coordinates of cars in ordered pair form: (3, 0)\n",
      "Coordinates of cars in ordered pair form: (5, 1)\n",
      "Coordinates of cars in ordered pair form: (12, 5)\n",
      "Coordinates of cars in ordered pair form: (15, 2)\n"
     ]
    }
   ],
   "source": [
    "## accessing two tuples at the same time given the same len\n",
    "car_xpos = (3, 5, 12, 15)\n",
    "car_ypos = (0, 1, 5, 2)\n",
    "### Multiple Access via Parallel Iteration\n",
    "for pos in zip(car_xpos, car_ypos):\n",
    "    print(f'Coordinates of cars in ordered pair form: {pos}')"
   ]
  },
  {
   "cell_type": "code",
   "execution_count": 19,
   "metadata": {},
   "outputs": [
    {
     "name": "stdout",
     "output_type": "stream",
     "text": [
      "(255, 64)\n",
      "(0, 128)\n",
      "(0, 111)\n"
     ]
    }
   ],
   "source": [
    "for px_colors in zip(pixel1_colors, pixel2_colors):\n",
    "    print(px_colors)"
   ]
  },
  {
   "cell_type": "code",
   "execution_count": null,
   "metadata": {},
   "outputs": [],
   "source": [
    "### Modifying Elements\n",
    "car_xpos[0] = 0\n",
    "## WALERS OUTPUT KASE NGA DI PEDE BAGUHIN"
   ]
  },
  {
   "cell_type": "code",
   "execution_count": null,
   "metadata": {},
   "outputs": [],
   "source": [
    "### Removing Elements\n",
    "del pixel1_colors[0]\n",
    "## WALERS DEN OUTPUT"
   ]
  },
  {
   "cell_type": "code",
   "execution_count": 22,
   "metadata": {},
   "outputs": [
    {
     "data": {
      "text/plain": [
       "(3, 5, 12, 15, 0, 1, 5, 2)"
      ]
     },
     "execution_count": 22,
     "metadata": {},
     "output_type": "execute_result"
    }
   ],
   "source": [
    "### Merging Tuples\n",
    "car_pos = car_xpos + car_ypos ## combining car position\n",
    "car_pos"
   ]
  },
  {
   "cell_type": "markdown",
   "metadata": {},
   "source": [
    "### Sets"
   ]
  },
  {
   "cell_type": "markdown",
   "metadata": {},
   "source": [
    "Sets are collections which are unordered and unindexed (u can't access any elements in da set using indices). Repititions are not allowed in set structures and they are denoted by curly brackets $\\{ ... \\}$."
   ]
  },
  {
   "cell_type": "code",
   "execution_count": 27,
   "metadata": {},
   "outputs": [],
   "source": [
    "### Declaration\n",
    "bakery_A = {'bread', 'cracker', 'croissant', 'eclair', 'parfait','cannele', 'coffee','tea'}\n",
    "bakery_B = {'bread', 'croissant', 'donuts', 'cinnamon roll', 'cookies','coffee','tea'}\n",
    "bakery_C = {'bread', 'bread', 'bread'}"
   ]
  },
  {
   "cell_type": "code",
   "execution_count": 28,
   "metadata": {},
   "outputs": [
    {
     "name": "stdout",
     "output_type": "stream",
     "text": [
      "{'bread'}\n"
     ]
    }
   ],
   "source": [
    "print(bakery_C)"
   ]
  },
  {
   "cell_type": "code",
   "execution_count": null,
   "metadata": {},
   "outputs": [],
   "source": [
    "### Accessing Elements\n",
    "bakery_A[0]\n",
    "## OUTPUT: ERROR; KENNAT ACCESS USING INDEX"
   ]
  },
  {
   "cell_type": "code",
   "execution_count": 24,
   "metadata": {},
   "outputs": [
    {
     "name": "stdout",
     "output_type": "stream",
     "text": [
      "parfait\n",
      "cracker\n",
      "eclair\n",
      "bread\n",
      "cannele\n",
      "coffee\n",
      "tea\n",
      "croissant\n"
     ]
    }
   ],
   "source": [
    "### Multiple Access via Loops\n",
    "## CAN ONLY ACCESS USING LOOP\n",
    "for product in bakery_A:\n",
    "    print(product)"
   ]
  },
  {
   "cell_type": "code",
   "execution_count": 32,
   "metadata": {},
   "outputs": [
    {
     "name": "stdout",
     "output_type": "stream",
     "text": [
      "{'cracker', 'eclair', 'bread', 'coffee', 'tea', 'croissant'}\n"
     ]
    }
   ],
   "source": [
    "### Removing an Element\n",
    "#bakery_A.remove('cannele')\n",
    "bakery_A.remove('parfait')\n",
    "print(bakery_A)"
   ]
  },
  {
   "cell_type": "code",
   "execution_count": 35,
   "metadata": {},
   "outputs": [
    {
     "data": {
      "text/plain": [
       "True"
      ]
     },
     "execution_count": 35,
     "metadata": {},
     "output_type": "execute_result"
    }
   ],
   "source": [
    "### Membership\n",
    "'coffee' in bakery_A     ## checking if 'coffee' is in the bakery_A\n",
    "# print('coffee' in bakery_A) ## OUTPUT: True\n",
    "# print('cannele' in bakery_A) ## OUTPUT: False -- niremove na kanina\n",
    "\n",
    "### Subsets\n",
    "order = {'coffee', 'eclair'}  ##check if set of order exist in bakery_A\n",
    "order.issubset(bakery_A)   ## .isubset -- to test kung subset nga ba\n",
    "## OUTPUT: False"
   ]
  },
  {
   "cell_type": "code",
   "execution_count": 36,
   "metadata": {},
   "outputs": [
    {
     "data": {
      "text/plain": [
       "{'bread',\n",
       " 'cinnamon roll',\n",
       " 'coffee',\n",
       " 'cookies',\n",
       " 'cracker',\n",
       " 'croissant',\n",
       " 'donuts',\n",
       " 'eclair',\n",
       " 'tea'}"
      ]
     },
     "execution_count": 36,
     "metadata": {},
     "output_type": "execute_result"
    }
   ],
   "source": [
    "### Union -- union of set\n",
    "baker_st = bakery_A.union(bakery_B)\n",
    "baker_st\n",
    "## though same set has 'bread', sets read it as one element"
   ]
  },
  {
   "cell_type": "code",
   "execution_count": 37,
   "metadata": {},
   "outputs": [
    {
     "data": {
      "text/plain": [
       "{'bread', 'coffee', 'croissant', 'tea'}"
      ]
     },
     "execution_count": 37,
     "metadata": {},
     "output_type": "execute_result"
    }
   ],
   "source": [
    "### Intersection -- common things in both bakery\n",
    "bakery_A.intersection(bakery_B)"
   ]
  },
  {
   "cell_type": "code",
   "execution_count": 39,
   "metadata": {},
   "outputs": [
    {
     "data": {
      "text/plain": [
       "{'cracker', 'eclair'}"
      ]
     },
     "execution_count": 39,
     "metadata": {},
     "output_type": "execute_result"
    }
   ],
   "source": [
    "### Difference -- unique element from bakery A and bakery B\n",
    "bakery_A.difference(bakery_B)"
   ]
  },
  {
   "cell_type": "markdown",
   "metadata": {},
   "source": [
    "### Dictionaries"
   ]
  },
  {
   "cell_type": "markdown",
   "metadata": {},
   "source": [
    "Dictionaries are collections which is unordered, changeable like sets but are indexed. Like sets, they are denoted witn $\\{...\\}$ but objects are characterized by <b>keys</b> and described using <b>values</b>."
   ]
  },
  {
   "cell_type": "code",
   "execution_count": 40,
   "metadata": {},
   "outputs": [],
   "source": [
    "### Declaration\n",
    "## keys -- 'products' ; values -- price\n",
    "bakery_A_prices = {'bread' : 60, \n",
    "            'cracker': 15, \n",
    "            'croissant': 40, \n",
    "           }"
   ]
  },
  {
   "cell_type": "code",
   "execution_count": 43,
   "metadata": {},
   "outputs": [
    {
     "data": {
      "text/plain": [
       "60"
      ]
     },
     "execution_count": 43,
     "metadata": {},
     "output_type": "execute_result"
    }
   ],
   "source": [
    "## Accessing\n",
    "## accessing the 'keys' to get the values\n",
    "bakery_A_prices['bread']"
   ]
  },
  {
   "cell_type": "code",
   "execution_count": 44,
   "metadata": {},
   "outputs": [
    {
     "name": "stdout",
     "output_type": "stream",
     "text": [
      "bread\n",
      "cracker\n",
      "croissant\n"
     ]
    }
   ],
   "source": [
    "## Accessing via Loops\n",
    "## printing all of the 'key'\n",
    "for product in bakery_A_prices:\n",
    "    print(product)"
   ]
  },
  {
   "cell_type": "code",
   "execution_count": 45,
   "metadata": {},
   "outputs": [
    {
     "name": "stdout",
     "output_type": "stream",
     "text": [
      "60\n",
      "15\n",
      "40\n"
     ]
    }
   ],
   "source": [
    "## printing all values of the 'key'\n",
    "for product in bakery_A_prices:\n",
    "    print(bakery_A_prices[product])"
   ]
  },
  {
   "cell_type": "code",
   "execution_count": 46,
   "metadata": {},
   "outputs": [
    {
     "name": "stdout",
     "output_type": "stream",
     "text": [
      "60\n",
      "15\n",
      "40\n"
     ]
    }
   ],
   "source": [
    "for price in bakery_A_prices.values():\n",
    "    print(price)"
   ]
  },
  {
   "cell_type": "code",
   "execution_count": 47,
   "metadata": {},
   "outputs": [
    {
     "name": "stdout",
     "output_type": "stream",
     "text": [
      "bread 60\n",
      "cracker 15\n",
      "croissant 40\n"
     ]
    }
   ],
   "source": [
    "## printing both product and price\n",
    "for product, price in bakery_A_prices.items():\n",
    "    print(product, price)"
   ]
  },
  {
   "cell_type": "code",
   "execution_count": 49,
   "metadata": {},
   "outputs": [
    {
     "name": "stdout",
     "output_type": "stream",
     "text": [
      "43.2\n"
     ]
    }
   ],
   "source": [
    "## Update / Modification\n",
    "bakery_A_prices['bread'] *= 0.8    ## *= -- for modifying\n",
    "print(bakery_A_prices['bread'])"
   ]
  },
  {
   "cell_type": "code",
   "execution_count": 50,
   "metadata": {},
   "outputs": [
    {
     "name": "stdout",
     "output_type": "stream",
     "text": [
      "{'bread': 43.2, 'cracker': 15, 'croissant': 40}\n",
      "{'bread': 43.2, 'cracker': 15, 'croissant': 40, 'coffee': 110}\n"
     ]
    }
   ],
   "source": [
    "## Adding Elements\n",
    "print(bakery_A_prices)\n",
    "bakery_A_prices['coffee'] = 110\n",
    "print(bakery_A_prices)"
   ]
  },
  {
   "cell_type": "code",
   "execution_count": 51,
   "metadata": {},
   "outputs": [
    {
     "name": "stdout",
     "output_type": "stream",
     "text": [
      "{'bread': 43.2, 'cracker': 15, 'croissant': 40, 'coffee': 110}\n",
      "15\n",
      "{'bread': 43.2, 'croissant': 40, 'coffee': 110}\n"
     ]
    }
   ],
   "source": [
    "## Removing Elements\n",
    "print(bakery_A_prices)\n",
    "print(bakery_A_prices.pop('cracker')) ## removing 'cracker' to dictionary\n",
    "print(bakery_A_prices)"
   ]
  },
  {
   "cell_type": "markdown",
   "metadata": {},
   "source": [
    "## Dataset Operations"
   ]
  },
  {
   "cell_type": "markdown",
   "metadata": {},
   "source": [
    "For this section, we will use the sets below to pracitce some practical dataset operations."
   ]
  },
  {
   "cell_type": "code",
   "execution_count": 52,
   "metadata": {},
   "outputs": [],
   "source": [
    "prime = [2,3,5,7,11,13,15,17,19,23]\n",
    "odd = [1,3,5,7,9,11,13,15,17,19,21, 23]"
   ]
  },
  {
   "cell_type": "markdown",
   "metadata": {},
   "source": [
    "### Intersection / Similarities"
   ]
  },
  {
   "cell_type": "code",
   "execution_count": 53,
   "metadata": {},
   "outputs": [
    {
     "name": "stdout",
     "output_type": "stream",
     "text": [
      "3\n",
      "5\n",
      "7\n",
      "11\n",
      "13\n",
      "15\n",
      "17\n",
      "19\n",
      "23\n"
     ]
    }
   ],
   "source": [
    "for num in prime:\n",
    "    if num in odd:\n",
    "        print(num)"
   ]
  },
  {
   "cell_type": "code",
   "execution_count": 54,
   "metadata": {},
   "outputs": [],
   "source": [
    "def intersection(list1, list2):\n",
    "    intersect = [num for num in list1 if num in list2]\n",
    "    return intersect"
   ]
  },
  {
   "cell_type": "code",
   "execution_count": 3,
   "metadata": {},
   "outputs": [
    {
     "data": {
      "text/plain": [
       "[3, 5, 7, 11, 13, 15, 17, 19, 23]"
      ]
     },
     "execution_count": 3,
     "metadata": {},
     "output_type": "execute_result"
    }
   ],
   "source": [
    "prime_n_odd = intersection(prime, odd)\n",
    "prime_n_odd"
   ]
  },
  {
   "cell_type": "markdown",
   "metadata": {},
   "source": [
    "### Subtraction / Uniqueness"
   ]
  },
  {
   "cell_type": "code",
   "execution_count": 55,
   "metadata": {},
   "outputs": [
    {
     "name": "stdout",
     "output_type": "stream",
     "text": [
      "2\n"
     ]
    }
   ],
   "source": [
    "for num in prime:\n",
    "    if num not in odd:\n",
    "        print(num)"
   ]
  },
  {
   "cell_type": "code",
   "execution_count": 56,
   "metadata": {},
   "outputs": [],
   "source": [
    "def subtraction(list1, list2):\n",
    "    less  =[num for num in list1 if num not in list2]\n",
    "    return less"
   ]
  },
  {
   "cell_type": "code",
   "execution_count": 57,
   "metadata": {},
   "outputs": [
    {
     "data": {
      "text/plain": [
       "[2]"
      ]
     },
     "execution_count": 57,
     "metadata": {},
     "output_type": "execute_result"
    }
   ],
   "source": [
    "prime_less_odd = subtraction(prime, odd)\n",
    "prime_less_odd"
   ]
  },
  {
   "cell_type": "markdown",
   "metadata": {},
   "source": [
    "### Union / Merge"
   ]
  },
  {
   "cell_type": "code",
   "execution_count": 58,
   "metadata": {},
   "outputs": [
    {
     "data": {
      "text/plain": [
       "[1, 2, 3, 3, 5, 5, 7, 7, 9, 11, 11, 13, 13, 15, 15, 17, 17, 19, 19, 21, 23, 23]"
      ]
     },
     "execution_count": 58,
     "metadata": {},
     "output_type": "execute_result"
    }
   ],
   "source": [
    "union_repeat = prime + odd\n",
    "union_repeat.sort()\n",
    "union_repeat"
   ]
  },
  {
   "cell_type": "code",
   "execution_count": 59,
   "metadata": {},
   "outputs": [
    {
     "data": {
      "text/plain": [
       "[1, 2, 3, 5, 7, 9, 11, 13, 15, 17, 19, 21, 23]"
      ]
     },
     "execution_count": 59,
     "metadata": {},
     "output_type": "execute_result"
    }
   ],
   "source": [
    "union_norepeat = intersection(prime, odd) + subtraction(prime, odd) + subtraction(odd, prime)\n",
    "union_norepeat.sort()\n",
    "union_norepeat"
   ]
  },
  {
   "cell_type": "code",
   "execution_count": 60,
   "metadata": {},
   "outputs": [
    {
     "data": {
      "text/plain": [
       "[1, 2, 3, 5, 7, 9, 11, 13, 15, 17, 19, 21, 23]"
      ]
     },
     "execution_count": 60,
     "metadata": {},
     "output_type": "execute_result"
    }
   ],
   "source": [
    "union_norepeat = list(set(prime).union(set(odd)))\n",
    "union_norepeat"
   ]
  },
  {
   "cell_type": "code",
   "execution_count": 61,
   "metadata": {},
   "outputs": [],
   "source": [
    "def union(list1, list2, repetition=False):\n",
    "    if repetition:\n",
    "        pass\n",
    "    else:\n",
    "        pass\n",
    "    return None"
   ]
  },
  {
   "cell_type": "code",
   "execution_count": 62,
   "metadata": {},
   "outputs": [],
   "source": [
    "prime_u_odd = union(prime, odd)"
   ]
  },
  {
   "cell_type": "markdown",
   "metadata": {},
   "source": [
    "## Activities"
   ]
  },
  {
   "cell_type": "markdown",
   "metadata": {},
   "source": [
    "#### Create your own collection variables with their contents using the sets in your Fandom Assignment then perform different join methods using your variables"
   ]
  },
  {
   "cell_type": "markdown",
   "metadata": {},
   "source": [
    "### ACTIVITY 1 (5 points)"
   ]
  },
  {
   "cell_type": "code",
   "execution_count": 6,
   "metadata": {},
   "outputs": [],
   "source": [
    "## BTS ALBUM'S\n",
    "love_yourself_tear = ['Singularity', 'Fake Love', 'The Truth Untold', '134340', 'Paradise', 'Love Maze',\n",
    "                     'Magic Shop', 'Airplane pt.2', 'Anpanman', 'So What', 'Tear']\n",
    "love_yourself_answer = ['Euphoria', 'Trivia: Just Dance', 'Serendipity', 'DNA', 'Trivia: Love', 'Her', \n",
    "                       'Singularity', 'Fake Love', 'The Truth Untold', 'Trivia: Seesaw', 'Tear', 'Epiphany',\n",
    "                       'Im Fine', 'Idol', 'Love Myself', 'Magic Shop', 'Best of Me', 'Airplane pt.2',\n",
    "                       'Go Go', 'Anpanman', 'Mic Drop']"
   ]
  },
  {
   "cell_type": "code",
   "execution_count": 7,
   "metadata": {},
   "outputs": [],
   "source": [
    "tear = set(love_yourself_tear)\n",
    "answer = set(love_yourself_answer)"
   ]
  },
  {
   "cell_type": "markdown",
   "metadata": {},
   "source": [
    "##### INNER JOIN"
   ]
  },
  {
   "cell_type": "code",
   "execution_count": 10,
   "metadata": {},
   "outputs": [
    {
     "data": {
      "text/plain": [
       "{'Airplane pt.2',\n",
       " 'Anpanman',\n",
       " 'Fake Love',\n",
       " 'Magic Shop',\n",
       " 'Singularity',\n",
       " 'Tear',\n",
       " 'The Truth Untold'}"
      ]
     },
     "execution_count": 10,
     "metadata": {},
     "output_type": "execute_result"
    }
   ],
   "source": [
    "same_tracks = tear.intersection(answer)\n",
    "same_tracks"
   ]
  },
  {
   "cell_type": "markdown",
   "metadata": {},
   "source": [
    "##### LEFT JOIN"
   ]
  },
  {
   "cell_type": "code",
   "execution_count": 11,
   "metadata": {},
   "outputs": [
    {
     "data": {
      "text/plain": [
       "{'134340',\n",
       " 'Airplane pt.2',\n",
       " 'Anpanman',\n",
       " 'Fake Love',\n",
       " 'Love Maze',\n",
       " 'Magic Shop',\n",
       " 'Paradise',\n",
       " 'Singularity',\n",
       " 'So What',\n",
       " 'Tear',\n",
       " 'The Truth Untold'}"
      ]
     },
     "execution_count": 11,
     "metadata": {},
     "output_type": "execute_result"
    }
   ],
   "source": [
    "ly_tear_track_list = same_tracks.union(tear)\n",
    "ly_tear_track_list"
   ]
  },
  {
   "cell_type": "markdown",
   "metadata": {},
   "source": [
    "##### RIGHT JOIN"
   ]
  },
  {
   "cell_type": "code",
   "execution_count": 12,
   "metadata": {},
   "outputs": [
    {
     "data": {
      "text/plain": [
       "{'Airplane pt.2',\n",
       " 'Anpanman',\n",
       " 'Best of Me',\n",
       " 'DNA',\n",
       " 'Epiphany',\n",
       " 'Euphoria',\n",
       " 'Fake Love',\n",
       " 'Go Go',\n",
       " 'Her',\n",
       " 'Idol',\n",
       " 'Im Fine',\n",
       " 'Love Myself',\n",
       " 'Magic Shop',\n",
       " 'Mic Drop',\n",
       " 'Serendipity',\n",
       " 'Singularity',\n",
       " 'Tear',\n",
       " 'The Truth Untold',\n",
       " 'Trivia: Just Dance',\n",
       " 'Trivia: Love',\n",
       " 'Trivia: Seesaw'}"
      ]
     },
     "execution_count": 12,
     "metadata": {},
     "output_type": "execute_result"
    }
   ],
   "source": [
    "ly_answer_track_list = same_tracks.union(answer)\n",
    "ly_answer_track_list"
   ]
  },
  {
   "cell_type": "markdown",
   "metadata": {},
   "source": [
    "##### LEFT EXCLUSIVE JOIN"
   ]
  },
  {
   "cell_type": "code",
   "execution_count": 14,
   "metadata": {},
   "outputs": [
    {
     "data": {
      "text/plain": [
       "{'134340', 'Love Maze', 'Paradise', 'So What'}"
      ]
     },
     "execution_count": 14,
     "metadata": {},
     "output_type": "execute_result"
    }
   ],
   "source": [
    "ly_tear_og = tear.difference(answer)\n",
    "ly_tear_og"
   ]
  },
  {
   "cell_type": "markdown",
   "metadata": {},
   "source": [
    "##### RIGHT EXCLUSIVE JOIN"
   ]
  },
  {
   "cell_type": "code",
   "execution_count": 15,
   "metadata": {},
   "outputs": [
    {
     "data": {
      "text/plain": [
       "{'Best of Me',\n",
       " 'DNA',\n",
       " 'Epiphany',\n",
       " 'Euphoria',\n",
       " 'Go Go',\n",
       " 'Her',\n",
       " 'Idol',\n",
       " 'Im Fine',\n",
       " 'Love Myself',\n",
       " 'Mic Drop',\n",
       " 'Serendipity',\n",
       " 'Trivia: Just Dance',\n",
       " 'Trivia: Love',\n",
       " 'Trivia: Seesaw'}"
      ]
     },
     "execution_count": 15,
     "metadata": {},
     "output_type": "execute_result"
    }
   ],
   "source": [
    "ly_answer_og = answer.difference(tear)\n",
    "ly_answer_og"
   ]
  },
  {
   "cell_type": "markdown",
   "metadata": {},
   "source": [
    "##### FULL OUTER JOIN"
   ]
  },
  {
   "cell_type": "code",
   "execution_count": 16,
   "metadata": {},
   "outputs": [
    {
     "data": {
      "text/plain": [
       "{'134340',\n",
       " 'Airplane pt.2',\n",
       " 'Anpanman',\n",
       " 'Best of Me',\n",
       " 'DNA',\n",
       " 'Epiphany',\n",
       " 'Euphoria',\n",
       " 'Fake Love',\n",
       " 'Go Go',\n",
       " 'Her',\n",
       " 'Idol',\n",
       " 'Im Fine',\n",
       " 'Love Maze',\n",
       " 'Love Myself',\n",
       " 'Magic Shop',\n",
       " 'Mic Drop',\n",
       " 'Paradise',\n",
       " 'Serendipity',\n",
       " 'Singularity',\n",
       " 'So What',\n",
       " 'Tear',\n",
       " 'The Truth Untold',\n",
       " 'Trivia: Just Dance',\n",
       " 'Trivia: Love',\n",
       " 'Trivia: Seesaw'}"
      ]
     },
     "execution_count": 16,
     "metadata": {},
     "output_type": "execute_result"
    }
   ],
   "source": [
    "ly_series_track_list = tear.union(answer)\n",
    "ly_series_track_list"
   ]
  },
  {
   "cell_type": "markdown",
   "metadata": {},
   "source": [
    "##### FULL OUTER EXCLUSIVE JOIN"
   ]
  },
  {
   "cell_type": "code",
   "execution_count": 17,
   "metadata": {},
   "outputs": [
    {
     "data": {
      "text/plain": [
       "{'134340',\n",
       " 'Best of Me',\n",
       " 'DNA',\n",
       " 'Epiphany',\n",
       " 'Euphoria',\n",
       " 'Go Go',\n",
       " 'Her',\n",
       " 'Idol',\n",
       " 'Im Fine',\n",
       " 'Love Maze',\n",
       " 'Love Myself',\n",
       " 'Mic Drop',\n",
       " 'Paradise',\n",
       " 'Serendipity',\n",
       " 'So What',\n",
       " 'Trivia: Just Dance',\n",
       " 'Trivia: Love',\n",
       " 'Trivia: Seesaw'}"
      ]
     },
     "execution_count": 17,
     "metadata": {},
     "output_type": "execute_result"
    }
   ],
   "source": [
    "ly_series_og_tracks = (tear.difference(answer)).union(answer.difference(tear))\n",
    "ly_series_og_tracks"
   ]
  }
 ],
 "metadata": {
  "kernelspec": {
   "display_name": "Python 3",
   "language": "python",
   "name": "python3"
  },
  "language_info": {
   "codemirror_mode": {
    "name": "ipython",
    "version": 3
   },
   "file_extension": ".py",
   "mimetype": "text/x-python",
   "name": "python",
   "nbconvert_exporter": "python",
   "pygments_lexer": "ipython3",
   "version": "3.8.3"
  }
 },
 "nbformat": 4,
 "nbformat_minor": 4
}
